{
 "cells": [
  {
   "cell_type": "code",
   "execution_count": 63,
   "metadata": {},
   "outputs": [],
   "source": [
    "import numpy as np\n",
    "import random\n",
    "\n",
    "import matplotlib.pyplot as plt"
   ]
  },
  {
   "cell_type": "markdown",
   "metadata": {},
   "source": [
    "### Option 1"
   ]
  },
  {
   "cell_type": "code",
   "execution_count": 64,
   "metadata": {},
   "outputs": [],
   "source": [
    "def roll_dice():\n",
    "    count_of = [1,4,6,4,1]\n",
    "    population = np.zeros(16)\n",
    "    randomness = list(range(16))\n",
    "    \n",
    "    for choice in range(len(count_of)):\n",
    "        while(count_of[choice]!=0):\n",
    "            curr_index=randomness.pop(random.choice(range(len(randomness))))\n",
    "            population[curr_index]=choice\n",
    "            count_of[choice]-=1\n",
    "\n",
    "    return int(np.random.choice(population))"
   ]
  },
  {
   "cell_type": "markdown",
   "metadata": {},
   "source": [
    "### Option 2"
   ]
  },
  {
   "cell_type": "code",
   "execution_count": 67,
   "metadata": {},
   "outputs": [],
   "source": [
    "def roll_dice_2():\n",
    "    return random.choices([0,1,2,3,4], k=1, weights=[1,4,6,4,1])"
   ]
  },
  {
   "cell_type": "markdown",
   "metadata": {},
   "source": [
    "### Option 3"
   ]
  },
  {
   "cell_type": "code",
   "execution_count": null,
   "metadata": {},
   "outputs": [],
   "source": [
    "def roll_dice_3():\n",
    "    sum()"
   ]
  },
  {
   "cell_type": "code",
   "execution_count": 77,
   "metadata": {},
   "outputs": [],
   "source": [
    "# DISTRIBUTION TEST CODE\n",
    "\n",
    "# counts = np.zeros(5)\n",
    "# for i in range(100):\n",
    "#     counts[roll_dice()]+=1\n",
    "# counts=counts/100\n",
    "# plt.plot(range(5),counts)\n",
    "\n",
    "# counts = np.zeros(5)\n",
    "# for i in range(100):\n",
    "#     counts[roll_dice_2()]+=1\n",
    "# counts=counts/100\n",
    "# plt.plot(range(5),counts)"
   ]
  },
  {
   "cell_type": "code",
   "execution_count": null,
   "metadata": {},
   "outputs": [],
   "source": []
  }
 ],
 "metadata": {
  "kernelspec": {
   "display_name": "Python 3",
   "language": "python",
   "name": "python3"
  },
  "language_info": {
   "codemirror_mode": {
    "name": "ipython",
    "version": 3
   },
   "file_extension": ".py",
   "mimetype": "text/x-python",
   "name": "python",
   "nbconvert_exporter": "python",
   "pygments_lexer": "ipython3",
   "version": "3.6.6"
  }
 },
 "nbformat": 4,
 "nbformat_minor": 2
}
